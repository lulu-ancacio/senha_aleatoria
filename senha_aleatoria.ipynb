{
 "cells": [
  {
   "cell_type": "code",
   "execution_count": null,
   "id": "af786b65",
   "metadata": {},
   "outputs": [],
   "source": [
    "import numpy as np\n",
    "import random\n",
    "\n",
    "def senha_aleatoria(mi, ma, n, e, dtype=int):\n",
    "\n",
    "    # Iniciação de vetores com caracteres de senha.\n",
    "    pre_senha = ''\n",
    "    minusculo = ['a', 'b', 'c', 'd', 'e', 'f', 'g', 'h', 'i', 'j', 'k', 'l', 'm', 'n', 'o', 'p', 'q', 'r', 's', 't', 'u', 'v', 'w', 'x', 'y', 'z']\n",
    "    maiusculo = list(map(lambda x: x.upper(), minusculo))\n",
    "    numeros = list(map(lambda x: str(x), np.arange(0, 10)))\n",
    "    especial = ['?', '!', '+', '-', '*', '/', '@', '#', '$', '%', '&']\n",
    "    \n",
    "    # Concatenação dos caracteres.\n",
    "    for i in range(1):\n",
    "        for i in range(mi):\n",
    "            pre_senha += minusculo[random.randint(0,25)]\n",
    "        for i in range(ma):\n",
    "            pre_senha += maiusculo[random.randint(0,25)]\n",
    "        for i in range(n):\n",
    "            pre_senha += numeros[random.randint(0,9)]\n",
    "        for i in range(e):\n",
    "            pre_senha += especial[random.randint(0,10)]\n",
    "\n",
    "    # Iniciação de vetores para embaralhamento da senha.\n",
    "    m_palavra = list(map(lambda x: x, pre_senha))\n",
    "    tam_palavra = len(m_palavra)\n",
    "    senha_def = ''\n",
    "    escolha = list(np.arange(tam_palavra))\n",
    "\n",
    "    # Embaralhamento randômico da senha.\n",
    "    for i in range(tam_palavra):\n",
    "        tam_escolha = len(escolha)\n",
    "        n = escolha[random.randint(0,tam_escolha-1)]\n",
    "        senha_def += m_palavra[n]\n",
    "        escolha.remove(n)\n",
    "    \n",
    "    return senha_def"
   ]
  }
 ],
 "metadata": {
  "kernelspec": {
   "display_name": "Python 3 (ipykernel)",
   "language": "python",
   "name": "python3"
  },
  "language_info": {
   "codemirror_mode": {
    "name": "ipython",
    "version": 3
   },
   "file_extension": ".py",
   "mimetype": "text/x-python",
   "name": "python",
   "nbconvert_exporter": "python",
   "pygments_lexer": "ipython3",
   "version": "3.9.7"
  }
 },
 "nbformat": 4,
 "nbformat_minor": 5
}
